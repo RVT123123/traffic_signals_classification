{
  "nbformat": 4,
  "nbformat_minor": 0,
  "metadata": {
    "colab": {
      "name": "traffic_light.ipynb",
      "provenance": [],
      "authorship_tag": "ABX9TyMQDLAa8uTHN8PTd4zzQ4R8",
      "include_colab_link": true
    },
    "kernelspec": {
      "name": "python3",
      "display_name": "Python 3"
    },
    "accelerator": "TPU"
  },
  "cells": [
    {
      "cell_type": "markdown",
      "metadata": {
        "id": "view-in-github",
        "colab_type": "text"
      },
      "source": [
        "<a href=\"https://colab.research.google.com/github/RVT123123/traffic_signals_classification/blob/master/traffic_light.ipynb\" target=\"_parent\"><img src=\"https://colab.research.google.com/assets/colab-badge.svg\" alt=\"Open In Colab\"/></a>"
      ]
    },
    {
      "cell_type": "code",
      "metadata": {
        "id": "kLgOxPmRHB6F",
        "colab_type": "code",
        "colab": {}
      },
      "source": [
        "import numpy as np \n",
        "import pandas as pd \n",
        "import matplotlib.pyplot as plt\n",
        "import cv2\n",
        "import tensorflow as tf\n",
        "from PIL import Image\n",
        "import os\n",
        "from sklearn.model_selection import train_test_split\n",
        "from keras.utils import to_categorical\n",
        "from keras.models import Sequential, load_model\n",
        "from keras.layers import Conv2D, MaxPool2D, Dense, Flatten, Dropout"
      ],
      "execution_count": 0,
      "outputs": []
    },
    {
      "cell_type": "code",
      "metadata": {
        "id": "_e1BwyG3IPd6",
        "colab_type": "code",
        "outputId": "56872878-6243-4ca5-8326-42ca086aaabd",
        "colab": {
          "base_uri": "https://localhost:8080/",
          "height": 34
        }
      },
      "source": [
        "from google.colab import drive\n",
        "drive.mount('/content/gdrive')"
      ],
      "execution_count": 3,
      "outputs": [
        {
          "output_type": "stream",
          "text": [
            "Drive already mounted at /content/gdrive; to attempt to forcibly remount, call drive.mount(\"/content/gdrive\", force_remount=True).\n"
          ],
          "name": "stdout"
        }
      ]
    },
    {
      "cell_type": "code",
      "metadata": {
        "id": "fEJhrCrehvui",
        "colab_type": "code",
        "outputId": "66f5bc63-1bb9-406f-e841-8e71ff658072",
        "colab": {
          "base_uri": "https://localhost:8080/"
        }
      },
      "source": [
        "pip install opencv-python"
      ],
      "execution_count": 0,
      "outputs": [
        {
          "output_type": "stream",
          "text": [
            "Requirement already satisfied: opencv-python in /usr/local/lib/python3.6/dist-packages (4.1.2.30)\n",
            "Requirement already satisfied: numpy>=1.11.3 in /usr/local/lib/python3.6/dist-packages (from opencv-python) (1.18.2)\n"
          ],
          "name": "stdout"
        }
      ]
    },
    {
      "cell_type": "code",
      "metadata": {
        "id": "85t9j4W1Iy6i",
        "colab_type": "code",
        "colab": {}
      },
      "source": [
        "data = []\n",
        "labels = []\n",
        "classes = 43\n",
        "cur_path = \"/content/gdrive/My Drive/traffic_light_project\""
      ],
      "execution_count": 0,
      "outputs": []
    },
    {
      "cell_type": "code",
      "metadata": {
        "id": "JT_A3eb7L1ys",
        "colab_type": "code",
        "colab": {}
      },
      "source": [
        "#Retrieving the images and their labels \n",
        "for i in range(classes):\n",
        "    path = os.path.join(cur_path,'Train',str(i))\n",
        "    images = os.listdir(path)\n",
        "    for a in images:\n",
        "        try:\n",
        "            image = Image.open(path + '//'+ a)\n",
        "            image = image.resize((30,30))\n",
        "            image = np.array(image)\n",
        "            #sim = Image.fromarray(image)\n",
        "            data.append(image)\n",
        "            labels.append(i)\n",
        "        except:\n",
        "            print(\"Error loading image\")"
      ],
      "execution_count": 0,
      "outputs": []
    },
    {
      "cell_type": "code",
      "metadata": {
        "id": "PoOpARTsS1Vh",
        "colab_type": "code",
        "outputId": "5a9a53c5-ee31-4e55-d8d4-22142c3a8de9",
        "colab": {
          "base_uri": "https://localhost:8080/",
          "height": 34
        }
      },
      "source": [
        "len(data)"
      ],
      "execution_count": 12,
      "outputs": [
        {
          "output_type": "execute_result",
          "data": {
            "text/plain": [
              "39226"
            ]
          },
          "metadata": {
            "tags": []
          },
          "execution_count": 12
        }
      ]
    },
    {
      "cell_type": "code",
      "metadata": {
        "id": "RpS7EDqrSoni",
        "colab_type": "code",
        "outputId": "5d0c6eff-12f8-4f4f-fee8-96387b08b23d",
        "colab": {
          "base_uri": "https://localhost:8080/",
          "height": 34
        }
      },
      "source": [
        "#Converting lists into numpy arrays\n",
        "data = np.array(data)\n",
        "labels = np.array(labels)\n",
        "print(data.shape, labels.shape)\n",
        "#Splitting training and testing dataset\n",
        "X_train, X_test, y_train, y_test = train_test_split(data, labels, test_size=0.2, random_state=42)"
      ],
      "execution_count": 13,
      "outputs": [
        {
          "output_type": "stream",
          "text": [
            "(39226, 30, 30, 3) (39226,)\n"
          ],
          "name": "stdout"
        }
      ]
    },
    {
      "cell_type": "code",
      "metadata": {
        "id": "FDQgu23aSfVd",
        "colab_type": "code",
        "outputId": "6853c9f4-ba09-4663-e82b-63781c07824f",
        "colab": {
          "base_uri": "https://localhost:8080/",
          "height": 34
        }
      },
      "source": [
        "print(X_train.shape, X_test.shape, y_train.shape, y_test.shape)"
      ],
      "execution_count": 14,
      "outputs": [
        {
          "output_type": "stream",
          "text": [
            "(31380, 30, 30, 3) (7846, 30, 30, 3) (31380,) (7846,)\n"
          ],
          "name": "stdout"
        }
      ]
    },
    {
      "cell_type": "code",
      "metadata": {
        "id": "QqQYHYAKRb7g",
        "colab_type": "code",
        "colab": {}
      },
      "source": [
        "#Converting the labels into one hot encoding\n",
        "y_train = to_categorical(y_train, 43)\n",
        "y_test = to_categorical(y_test, 43)"
      ],
      "execution_count": 0,
      "outputs": []
    },
    {
      "cell_type": "code",
      "metadata": {
        "id": "VXiFn4pPMwaa",
        "colab_type": "code",
        "colab": {
          "base_uri": "https://localhost:8080/",
          "height": 34
        },
        "outputId": "3663bb0e-a93f-443d-8021-14d8f71a47f0"
      },
      "source": [
        "y_train.shape"
      ],
      "execution_count": 16,
      "outputs": [
        {
          "output_type": "execute_result",
          "data": {
            "text/plain": [
              "(31380, 43)"
            ]
          },
          "metadata": {
            "tags": []
          },
          "execution_count": 16
        }
      ]
    },
    {
      "cell_type": "code",
      "metadata": {
        "id": "UTziIlaZV1W4",
        "colab_type": "code",
        "colab": {}
      },
      "source": [
        "#Building the model\n",
        "model = Sequential()\n",
        "model.add(Conv2D(filters=32, kernel_size=(5,5), activation='relu', input_shape=X_train.shape[1:]))\n",
        "model.add(Conv2D(filters=32, kernel_size=(5,5), activation='relu'))\n",
        "model.add(MaxPool2D(pool_size=(2, 2)))\n",
        "model.add(Dropout(rate=0.25))\n",
        "model.add(Conv2D(filters=64, kernel_size=(3, 3), activation='relu'))\n",
        "model.add(Conv2D(filters=64, kernel_size=(3, 3), activation='relu'))\n",
        "model.add(MaxPool2D(pool_size=(2, 2)))\n",
        "model.add(Dropout(rate=0.25))\n",
        "model.add(Flatten())\n",
        "model.add(Dense(256, activation='relu'))\n",
        "model.add(Dropout(rate=0.5))\n",
        "model.add(Dense(43, activation='softmax'))\n",
        "#Compilation of the model\n",
        "model.compile(loss='categorical_crossentropy', optimizer='adam', metrics=['acc'])"
      ],
      "execution_count": 0,
      "outputs": []
    },
    {
      "cell_type": "code",
      "metadata": {
        "id": "bh0YK4xvV48U",
        "colab_type": "code",
        "colab": {
          "base_uri": "https://localhost:8080/",
          "height": 561
        },
        "outputId": "361546ce-d0f9-4017-84ba-35d601ef9395"
      },
      "source": [
        "model.summary()"
      ],
      "execution_count": 25,
      "outputs": [
        {
          "output_type": "stream",
          "text": [
            "Model: \"sequential_3\"\n",
            "_________________________________________________________________\n",
            "Layer (type)                 Output Shape              Param #   \n",
            "=================================================================\n",
            "conv2d_9 (Conv2D)            (None, 26, 26, 32)        2432      \n",
            "_________________________________________________________________\n",
            "conv2d_10 (Conv2D)           (None, 22, 22, 32)        25632     \n",
            "_________________________________________________________________\n",
            "max_pooling2d_5 (MaxPooling2 (None, 11, 11, 32)        0         \n",
            "_________________________________________________________________\n",
            "dropout_7 (Dropout)          (None, 11, 11, 32)        0         \n",
            "_________________________________________________________________\n",
            "conv2d_11 (Conv2D)           (None, 9, 9, 64)          18496     \n",
            "_________________________________________________________________\n",
            "conv2d_12 (Conv2D)           (None, 7, 7, 64)          36928     \n",
            "_________________________________________________________________\n",
            "max_pooling2d_6 (MaxPooling2 (None, 3, 3, 64)          0         \n",
            "_________________________________________________________________\n",
            "dropout_8 (Dropout)          (None, 3, 3, 64)          0         \n",
            "_________________________________________________________________\n",
            "flatten_3 (Flatten)          (None, 576)               0         \n",
            "_________________________________________________________________\n",
            "dense_5 (Dense)              (None, 256)               147712    \n",
            "_________________________________________________________________\n",
            "dropout_9 (Dropout)          (None, 256)               0         \n",
            "_________________________________________________________________\n",
            "dense_6 (Dense)              (None, 43)                11051     \n",
            "=================================================================\n",
            "Total params: 242,251\n",
            "Trainable params: 242,251\n",
            "Non-trainable params: 0\n",
            "_________________________________________________________________\n"
          ],
          "name": "stdout"
        }
      ]
    },
    {
      "cell_type": "code",
      "metadata": {
        "id": "dHYDKsjwW2o9",
        "colab_type": "code",
        "colab": {}
      },
      "source": [
        "from keras.preprocessing.sequence import pad_sequences\n",
        "from keras.utils.np_utils import to_categorical\n",
        "from keras.layers import Dense, Input, Flatten, Embedding, Conv1D, MaxPooling1D, Concatenate, LSTM, Dropout, Reshape\n",
        "from keras.models import Model, load_model\n",
        "import numpy as np\n",
        "import keras.models\n",
        "from keras.models import Sequential\n",
        "from keras.layers import Conv2D, MaxPooling2D, Bidirectional\n",
        "from keras.layers.normalization import BatchNormalization\n",
        "import glob"
      ],
      "execution_count": 0,
      "outputs": []
    },
    {
      "cell_type": "code",
      "metadata": {
        "id": "e5BP_5HbWpGJ",
        "colab_type": "code",
        "colab": {}
      },
      "source": [
        "from keras.callbacks import ModelCheckpoint\n",
        "filepath=\"traffic.best.hdf5\"\n",
        "checkpoint = ModelCheckpoint(filepath, monitor='val_acc', verbose=1, save_best_only=True, mode='max')\n",
        "reduce_lr = keras.callbacks.ReduceLROnPlateau(monitor = 'val_loss' , factor=0.01 , patience=15 , verbose=1 , min_delta=0.00001 , min_lr=0.0001 )\n",
        "callbacks_list = [checkpoint,reduce_lr]"
      ],
      "execution_count": 0,
      "outputs": []
    },
    {
      "cell_type": "code",
      "metadata": {
        "id": "xTVxZUwMV8vP",
        "colab_type": "code",
        "colab": {
          "base_uri": "https://localhost:8080/",
          "height": 1000
        },
        "outputId": "f4a3f674-a3c0-42ab-dc2b-63d889416bba"
      },
      "source": [
        "epochs = 15\n",
        "history = model.fit(X_train, y_train, batch_size=32, epochs=epochs, validation_data=(X_test, y_test),verbose = 2,callbacks=callbacks_list)"
      ],
      "execution_count": 28,
      "outputs": [
        {
          "output_type": "stream",
          "text": [
            "Train on 31380 samples, validate on 7846 samples\n",
            "Epoch 1/15\n",
            " - 127s - loss: 2.3626 - acc: 0.3960 - val_loss: 1.0451 - val_acc: 0.7076\n",
            "\n",
            "Epoch 00001: val_acc improved from -inf to 0.70762, saving model to traffic.best.hdf5\n",
            "Epoch 2/15\n",
            " - 127s - loss: 1.1659 - acc: 0.6420 - val_loss: 0.5244 - val_acc: 0.8624\n",
            "\n",
            "Epoch 00002: val_acc improved from 0.70762 to 0.86235, saving model to traffic.best.hdf5\n",
            "Epoch 3/15\n",
            " - 131s - loss: 0.8490 - acc: 0.7397 - val_loss: 0.4292 - val_acc: 0.8762\n",
            "\n",
            "Epoch 00003: val_acc improved from 0.86235 to 0.87624, saving model to traffic.best.hdf5\n",
            "Epoch 4/15\n",
            " - 127s - loss: 0.7079 - acc: 0.7863 - val_loss: 0.3069 - val_acc: 0.9175\n",
            "\n",
            "Epoch 00004: val_acc improved from 0.87624 to 0.91754, saving model to traffic.best.hdf5\n",
            "Epoch 5/15\n",
            " - 127s - loss: 0.6538 - acc: 0.7999 - val_loss: 0.2529 - val_acc: 0.9268\n",
            "\n",
            "Epoch 00005: val_acc improved from 0.91754 to 0.92684, saving model to traffic.best.hdf5\n",
            "Epoch 6/15\n",
            " - 127s - loss: 0.5896 - acc: 0.8174 - val_loss: 0.2159 - val_acc: 0.9405\n",
            "\n",
            "Epoch 00006: val_acc improved from 0.92684 to 0.94048, saving model to traffic.best.hdf5\n",
            "Epoch 7/15\n",
            " - 130s - loss: 0.5525 - acc: 0.8322 - val_loss: 0.2248 - val_acc: 0.9346\n",
            "\n",
            "Epoch 00007: val_acc did not improve from 0.94048\n",
            "Epoch 8/15\n",
            " - 127s - loss: 0.5295 - acc: 0.8392 - val_loss: 0.2141 - val_acc: 0.9419\n",
            "\n",
            "Epoch 00008: val_acc improved from 0.94048 to 0.94188, saving model to traffic.best.hdf5\n",
            "Epoch 9/15\n",
            " - 126s - loss: 0.4942 - acc: 0.8504 - val_loss: 0.2050 - val_acc: 0.9446\n",
            "\n",
            "Epoch 00009: val_acc improved from 0.94188 to 0.94456, saving model to traffic.best.hdf5\n",
            "Epoch 10/15\n",
            " - 127s - loss: 0.4723 - acc: 0.8573 - val_loss: 0.1709 - val_acc: 0.9542\n",
            "\n",
            "Epoch 00010: val_acc improved from 0.94456 to 0.95424, saving model to traffic.best.hdf5\n",
            "Epoch 11/15\n",
            " - 127s - loss: 0.4413 - acc: 0.8654 - val_loss: 0.1690 - val_acc: 0.9516\n",
            "\n",
            "Epoch 00011: val_acc did not improve from 0.95424\n",
            "Epoch 12/15\n",
            " - 130s - loss: 0.3823 - acc: 0.8822 - val_loss: 0.1621 - val_acc: 0.9562\n",
            "\n",
            "Epoch 00012: val_acc improved from 0.95424 to 0.95616, saving model to traffic.best.hdf5\n",
            "Epoch 13/15\n",
            " - 127s - loss: 0.3605 - acc: 0.8933 - val_loss: 0.1169 - val_acc: 0.9660\n",
            "\n",
            "Epoch 00013: val_acc improved from 0.95616 to 0.96597, saving model to traffic.best.hdf5\n",
            "Epoch 14/15\n",
            " - 127s - loss: 0.3527 - acc: 0.8962 - val_loss: 0.1442 - val_acc: 0.9578\n",
            "\n",
            "Epoch 00014: val_acc did not improve from 0.96597\n",
            "Epoch 15/15\n",
            " - 127s - loss: 0.3299 - acc: 0.9020 - val_loss: 0.1299 - val_acc: 0.9643\n",
            "\n",
            "Epoch 00015: val_acc did not improve from 0.96597\n"
          ],
          "name": "stdout"
        }
      ]
    },
    {
      "cell_type": "code",
      "metadata": {
        "id": "2gFl2OBhXDH6",
        "colab_type": "code",
        "colab": {}
      },
      "source": [
        "model.load_weights(\"traffic.best.hdf5\")"
      ],
      "execution_count": 0,
      "outputs": []
    },
    {
      "cell_type": "code",
      "metadata": {
        "id": "l5ELWF8AhDFp",
        "colab_type": "code",
        "colab": {
          "base_uri": "https://localhost:8080/",
          "height": 573
        },
        "outputId": "25898853-6d9d-4403-96f1-db9e7bb2a72b"
      },
      "source": [
        "#plotting graphs for accuracy \n",
        "plt.figure(0)\n",
        "plt.plot(history.history['acc'], label='training accuracy')\n",
        "plt.plot(history.history['val_acc'], label='val accuracy')\n",
        "plt.title('Accuracy')\n",
        "plt.xlabel('epochs')\n",
        "plt.ylabel('accuracy')\n",
        "plt.legend()\n",
        "plt.show()\n",
        "plt.figure(1)\n",
        "plt.plot(history.history['loss'], label='training loss')\n",
        "plt.plot(history.history['val_loss'], label='val loss')\n",
        "plt.title('Loss')\n",
        "plt.xlabel('epochs')\n",
        "plt.ylabel('loss')\n",
        "plt.legend()\n",
        "plt.show()"
      ],
      "execution_count": 30,
      "outputs": [
        {
          "output_type": "display_data",
          "data": {
            "image/png": "[encoded data removed]",
            "text/plain": [
              "<Figure size 432x288 with 1 Axes>"
            ]
          },
          "metadata": {
            "tags": [],
            "needs_background": "light"
          }
        },
        {
          "output_type": "display_data",
          "data": {
            "image/png": "[encoded data removed]",
            "text/plain": [
              "<Figure size 432x288 with 1 Axes>"
            ]
          },
          "metadata": {
            "tags": [],
            "needs_background": "light"
          }
        }
      ]
    },
    {
      "cell_type": "code",
      "metadata": {
        "id": "mUpczVPjhJRj",
        "colab_type": "code",
        "colab": {}
      },
      "source": [
        "#testing accuracy on test dataset\n",
        "from sklearn.metrics import accuracy_score\n",
        "y_test = pd.read_csv('/content/gdrive/My Drive/traffic_light_project/Test.csv')\n",
        "labels = y_test[\"ClassId\"].values\n",
        "imgs = y_test[\"Path\"].values\n",
        "data=[]\n",
        "full = \"/content/gdrive/My Drive/traffic_light_project/\"\n",
        "for img in imgs:\n",
        "    img = full+img\n",
        "    image = Image.open(img)\n",
        "    image = image.resize((30,30))\n",
        "    data.append(np.array(image))\n",
        "X_test=np.array(data)"
      ],
      "execution_count": 0,
      "outputs": []
    },
    {
      "cell_type": "code",
      "metadata": {
        "id": "ZDb6rLjPhn0n",
        "colab_type": "code",
        "colab": {
          "base_uri": "https://localhost:8080/",
          "height": 34
        },
        "outputId": "68e22106-66e5-4734-f203-6ba7f4b45480"
      },
      "source": [
        "pred = model.predict_classes(X_test)\n",
        "#predictong accuracy with the test data\n",
        "from sklearn.metrics import accuracy_score\n",
        "print(accuracy_score(labels, pred))\n",
        "#model.save('traffic_classifier.h5')"
      ],
      "execution_count": 33,
      "outputs": [
        {
          "output_type": "stream",
          "text": [
            "0.9220110847189232\n"
          ],
          "name": "stdout"
        }
      ]
    },
    {
      "cell_type": "code",
      "metadata": {
        "id": "2EVXpw9buYTd",
        "colab_type": "code",
        "colab": {}
      },
      "source": [
        ""
      ],
      "execution_count": 0,
      "outputs": []
    }
  ]
}